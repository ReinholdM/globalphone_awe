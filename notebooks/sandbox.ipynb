{
 "cells": [
  {
   "cell_type": "markdown",
   "metadata": {},
   "source": [
    "# Sandbox"
   ]
  },
  {
   "cell_type": "markdown",
   "metadata": {},
   "source": [
    "Herman Kamper, Stellenbosch University, 2019."
   ]
  },
  {
   "cell_type": "markdown",
   "metadata": {},
   "source": [
    "## Preliminaries"
   ]
  },
  {
   "cell_type": "code",
   "execution_count": 65,
   "metadata": {},
   "outputs": [
    {
     "name": "stdout",
     "output_type": "stream",
     "text": [
      "The autoreload extension is already loaded. To reload it, use:\n",
      "  %reload_ext autoreload\n"
     ]
    }
   ],
   "source": [
    "%matplotlib inline\n",
    "%load_ext autoreload\n",
    "%autoreload 2\n",
    "\n",
    "from os import path\n",
    "import matplotlib.pyplot as plt\n",
    "import numpy as np\n",
    "import os\n",
    "import sys\n",
    "import tensorflow as tf\n",
    "\n",
    "sys.path.append(path.join(\"..\", \"src\"))\n",
    "import tflego\n",
    "\n",
    "from tflego import NP_DTYPE, TF_DTYPE, NP_ITYPE, TF_ITYPE"
   ]
  },
  {
   "cell_type": "code",
   "execution_count": 66,
   "metadata": {},
   "outputs": [],
   "source": [
    "import warnings\n",
    "warnings.filterwarnings(\"ignore\")\n",
    "os.environ[\"TF_CPP_MIN_LOG_LEVEL\"] = \"2\"\n",
    "tf.logging.set_verbosity(tf.logging.ERROR)\n",
    "if type(tf.contrib) != type(tf):\n",
    "    tf.contrib._warning = None"
   ]
  },
  {
   "cell_type": "markdown",
   "metadata": {},
   "source": [
    "## Conditioning"
   ]
  },
  {
   "cell_type": "code",
   "execution_count": 70,
   "metadata": {},
   "outputs": [],
   "source": [
    "tf.reset_default_graph()\n",
    "\n",
    "# Random seed\n",
    "np.random.seed(1)\n",
    "tf.set_random_seed(1)\n",
    "\n",
    "# Parameters\n",
    "n_data = 7\n",
    "d_in = 5\n",
    "n_languages = 3\n",
    "n_classes = 2\n",
    "test_data = np.asarray(np.random.randn(n_data, d_in), dtype=NP_DTYPE)\n",
    "test_language = np.asarray([0, 0, 0, 1, 1, 2, 2], dtype=NP_ITYPE)  # want to split accordingly\n",
    "test_class =    np.asarray([0, 1, 0, 1, 0, 0, 1], dtype=NP_ITYPE)  # output class\n",
    "\n",
    "# Model\n",
    "x = tf.placeholder(TF_DTYPE, [None, d_in])\n",
    "language = tf.placeholder(TF_ITYPE, [None])\n",
    "y = tf.placeholder(TF_ITYPE, [None])\n",
    "ff = tflego.build_feedforward(\n",
    "    x, [10, 9]\n",
    "    )\n",
    "split_networks = []\n",
    "for i_lang in range(n_languages):\n",
    "    with tf.variable_scope(\"split_{}\".format(i_lang)):\n",
    "        split_network = tflego.build_feedforward(\n",
    "            ff, [6, n_classes]\n",
    "            )\n",
    "        if i_lang == 0:\n",
    "            split_network *= 0\n",
    "        elif i_lang == 1:\n",
    "            split_network *= np.inf\n",
    "        elif i_lang == 2:\n",
    "            pass\n",
    "    split_networks.append(split_network)\n",
    "    \n",
    "output = tf.where(tf.equal(language, 0), split_networks[0], \n",
    "    tf.where(tf.equal(language, 1), split_networks[1], split_networks[2])\n",
    "    )\n",
    "\n",
    "# output = tf.where(tf.equal(language, 0), (language + 1)*55, language*0)\n",
    "# output = tf.where(tf.equal(language, 0), 55, \n",
    "#     tf.where(tf.equal(language, 1), 66,\n",
    "#     tf.where(tf.equal(language, 2), 9, -1\n",
    "#     )))\n"
   ]
  },
  {
   "cell_type": "code",
   "execution_count": 71,
   "metadata": {},
   "outputs": [],
   "source": [
    "init = tf.global_variables_initializer()\n",
    "with tf.Session() as session:\n",
    "    session.run(init)\n",
    "    np_output = output.eval({x: test_data, language: test_language})"
   ]
  },
  {
   "cell_type": "code",
   "execution_count": 72,
   "metadata": {},
   "outputs": [
    {
     "data": {
      "text/plain": [
       "array([[-0.        , -0.        ],\n",
       "       [-0.        , -0.        ],\n",
       "       [-0.        , -0.        ],\n",
       "       [        inf,        -inf],\n",
       "       [        inf,        -inf],\n",
       "       [ 1.7773362 , -0.6447714 ],\n",
       "       [ 1.8913155 , -0.20415437]], dtype=float32)"
      ]
     },
     "execution_count": 72,
     "metadata": {},
     "output_type": "execute_result"
    }
   ],
   "source": [
    "np_output"
   ]
  },
  {
   "cell_type": "code",
   "execution_count": null,
   "metadata": {},
   "outputs": [],
   "source": []
  }
 ],
 "metadata": {
  "kernelspec": {
   "display_name": "Python 3",
   "language": "python",
   "name": "python3"
  },
  "language_info": {
   "codemirror_mode": {
    "name": "ipython",
    "version": 3
   },
   "file_extension": ".py",
   "mimetype": "text/x-python",
   "name": "python",
   "nbconvert_exporter": "python",
   "pygments_lexer": "ipython3",
   "version": "3.5.2"
  }
 },
 "nbformat": 4,
 "nbformat_minor": 2
}
